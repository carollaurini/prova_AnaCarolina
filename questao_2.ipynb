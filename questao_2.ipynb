{
 "cells": [
  {
   "cell_type": "code",
   "execution_count": 1,
   "source": [
    "import requests\r\n",
    "import pandas as pd\r\n",
    "url = 'https://query.wikidata.org/sparql' #API Endpoint\r\n",
    "value = \"museu\" #Texto de busca\r\n",
    "\r\n",
    "#SPARQL Query -não é necessário alterações.\r\n",
    "query = \"\"\" SELECT ?sujeito ?instancia ?instanciaLabel WHERE {\r\n",
    "     ?sujeito ?label \"%s\"@pt .\r\n",
    "     ?sujeito wdt:P31 ?instancia\r\n",
    "    SERVICE wikibase:label { bd:serviceParam wikibase:language \"pt-br\", \"en\". } \r\n",
    "    } \"\"\" %(value)\r\n",
    "\r\n",
    "r = requests.get(url, params = {'format': 'json', 'query': query}) #consulta à API\r\n",
    "data = r.json() #resposta da consulta à API em JSON\r\n",
    "\r\n",
    "for item in data['results']['bindings']: #Loop para iterar pelos resultados.\r\n",
    "    print(value, item['sujeito']['value'], item['instancia']['value'], item['instanciaLabel']['value']) #Resultados\r\n"
   ],
   "outputs": [
    {
     "output_type": "stream",
     "name": "stdout",
     "text": [
      "museu http://www.wikidata.org/entity/Q767473 http://www.wikidata.org/entity/Q207694 museu de arte\n",
      "museu http://www.wikidata.org/entity/Q1072981 http://www.wikidata.org/entity/Q33506 museu\n",
      "museu http://www.wikidata.org/entity/Q1072981 http://www.wikidata.org/entity/Q1759852 sculpture garden\n",
      "museu http://www.wikidata.org/entity/Q1249027 http://www.wikidata.org/entity/Q33506 museu\n",
      "museu http://www.wikidata.org/entity/Q1249027 http://www.wikidata.org/entity/Q100731037 Native American organization\n",
      "museu http://www.wikidata.org/entity/Q1990172 http://www.wikidata.org/entity/Q33506 museu\n",
      "museu http://www.wikidata.org/entity/Q1990172 http://www.wikidata.org/entity/Q1865249 literary museum\n",
      "museu http://www.wikidata.org/entity/Q3107846 http://www.wikidata.org/entity/Q2327632 city museum\n",
      "museu http://www.wikidata.org/entity/Q3854482 http://www.wikidata.org/entity/Q33506 museu\n",
      "museu http://www.wikidata.org/entity/Q3854482 http://www.wikidata.org/entity/Q962734 migration museum\n",
      "museu http://www.wikidata.org/entity/Q10328528 http://www.wikidata.org/entity/Q33506 museu\n",
      "museu http://www.wikidata.org/entity/Q10328528 http://www.wikidata.org/entity/Q1081138 patrimônio histórico\n",
      "museu http://www.wikidata.org/entity/Q10328528 http://www.wikidata.org/entity/Q4663385 former railway station\n",
      "museu http://www.wikidata.org/entity/Q10333682 http://www.wikidata.org/entity/Q33506 museu\n"
     ]
    }
   ],
   "metadata": {}
  },
  {
   "cell_type": "code",
   "execution_count": 32,
   "source": [
    "#Cria o array de dados. Foi utilizada uma estrutura de for otimizada em python\r\n",
    "rows = [[value,item['sujeito']['value'],item['instancia']['value'],item['instanciaLabel']['value']] for item in data['results']['bindings']]\r\n",
    "\r\n",
    "#Cria o dataframe\r\n",
    "df = pd.DataFrame(rows,columns=[\"palavra\",\"sujeito\", \"instancia\",\"instanciaLabel\"])\r\n",
    "\r\n",
    "#Salva o dataframe em csv com encoding para portugues. Usei separacao por ; para melhor visualizar o arquivo csv no excel\r\n",
    "df.to_csv(\"base_out2.csv\",index=False,sep=';',encoding='ISO-8859-1')"
   ],
   "outputs": [],
   "metadata": {}
  }
 ],
 "metadata": {
  "orig_nbformat": 4,
  "language_info": {
   "name": "python",
   "version": "3.6.8",
   "mimetype": "text/x-python",
   "codemirror_mode": {
    "name": "ipython",
    "version": 3
   },
   "pygments_lexer": "ipython3",
   "nbconvert_exporter": "python",
   "file_extension": ".py"
  },
  "kernelspec": {
   "name": "python3",
   "display_name": "Python 3.6.8 64-bit"
  },
  "interpreter": {
   "hash": "a00aeec2289cc99a0231b58f96b56a331b4325a429a696208fafbc585e08b4fc"
  }
 },
 "nbformat": 4,
 "nbformat_minor": 2
}